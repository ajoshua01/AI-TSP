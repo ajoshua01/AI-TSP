{
 "cells": [
  {
   "cell_type": "code",
   "execution_count": null,
   "metadata": {},
   "outputs": [],
   "source": [
    "# Traveling Salesperson problem by Kyle Greeley and Aaron Joshua\n",
    "# ==============================================================\n",
    "# The goal of this project is to create an algorithim that \n",
    "# finds a path through a graph data structure by \n",
    "# implementing a greedy algorithim. "
   ]
  },
  {
   "cell_type": "markdown",
   "metadata": {},
   "source": [
    "<img src=\"traveling_salesperson.gif\">"
   ]
  },
  {
   "cell_type": "code",
   "execution_count": null,
   "metadata": {},
   "outputs": [],
   "source": [
    "import sys\n",
    "sys.path.insert(0, \"/Users/aaronjoshuaesq./Dropbox/Education/Salem/Fall 2020/Artificial Intelligence/TSP\")"
   ]
  },
  {
   "cell_type": "code",
   "execution_count": null,
   "metadata": {},
   "outputs": [],
   "source": [
    "# This project relies on networkX, random, and Matplotlib libraries\n",
    "# It was built using Spyder and this presentation\n",
    "# obviously is made in Jupyter notebook. \n",
    "# We chose python because it does not use semicolons. \n",
    "# We also chose python because its extremely flexible. "
   ]
  },
  {
   "cell_type": "markdown",
   "metadata": {},
   "source": [
    "<img src=\"solution_design.png\">"
   ]
  },
  {
   "cell_type": "code",
   "execution_count": null,
   "metadata": {},
   "outputs": [],
   "source": [
    "# Aaron built the graph (puzzle) and visualization class.\n",
    "# Kyle made the brain (greedy algorithim) that solves the puzzle that \n",
    "# was randomly created by the Graph class. "
   ]
  },
  {
   "cell_type": "markdown",
   "metadata": {},
   "source": [
    "Source: https://www.tutorialspoint.com/python_data_structure/python_graphs.htm \n",
    "<img src=\"graph_structure.png\">"
   ]
  },
  {
   "cell_type": "markdown",
   "metadata": {},
   "source": [
    "<img src =\"new_graph_structure.png\">"
   ]
  },
  {
   "cell_type": "markdown",
   "metadata": {},
   "source": [
    "  def randomize_graph(numNodes):\n",
    "    import random\n",
    "            x=0\n",
    "            self.__graph_dict = {}\n",
    "            // Create each key value (node)\n",
    "            while x < numNodes:\n",
    "                self.__graph_dict[x]  = []\n",
    "                x=x+1\n",
    "             // For each node create a random nunmber \n",
    "             // of edges to and from random nodes. \n",
    "            for node in self.__graph_dict.keys(): \n",
    "                y = 0\n",
    "                while y < random.randrange(3, numNodes):\n",
    "                    if y != node: // do not create a loop\n",
    "                        newNode = random.randrange(numNodes)\n",
    "                        self.__graph_dict[node].append((newNode, node))\n",
    "                        self.__graph_dict[newNode].append((locale, node))\n",
    "                    y=y+1    "
   ]
  },
  {
   "cell_type": "code",
   "execution_count": null,
   "metadata": {},
   "outputs": [],
   "source": [
    "from Graph_Class import Graph\n",
    "num = 8\n",
    "visited_nodes = []\n",
    "known_nodes = []   \n",
    "graph = Graph(nodes = num)"
   ]
  },
  {
   "cell_type": "code",
   "execution_count": null,
   "metadata": {},
   "outputs": [],
   "source": [
    "def greedy(visited, options, start):\n",
    "    if not visited:\n",
    "        visited.append(start)\n",
    "        print(\"Start: %s\" % visited)\n",
    "    while len(visited) != len(known_nodes):\n",
    "        for iteration, option in enumerate(options):\n",
    "            if option[0] not in known_nodes:\n",
    "                known_nodes.append(option[0])\n",
    "            if option[0] not in visited:\n",
    "                visited.append(option[0])\n",
    "                greedy(visited, graph.path_forward(iteration), start)\n",
    "\n",
    "    print(\"Backtracking!\")\n",
    "    return visited_nodes"
   ]
  },
  {
   "cell_type": "code",
   "execution_count": null,
   "metadata": {
    "scrolled": false
   },
   "outputs": [],
   "source": [
    "path = greedy(visited_nodes,graph.options , graph.location)    "
   ]
  },
  {
   "cell_type": "code",
   "execution_count": null,
   "metadata": {},
   "outputs": [],
   "source": []
  }
 ],
 "metadata": {
  "kernelspec": {
   "display_name": "Python 3",
   "language": "python",
   "name": "python3"
  },
  "language_info": {
   "codemirror_mode": {
    "name": "ipython",
    "version": 3
   },
   "file_extension": ".py",
   "mimetype": "text/x-python",
   "name": "python",
   "nbconvert_exporter": "python",
   "pygments_lexer": "ipython3",
   "version": "3.7.6"
  }
 },
 "nbformat": 4,
 "nbformat_minor": 4
}
